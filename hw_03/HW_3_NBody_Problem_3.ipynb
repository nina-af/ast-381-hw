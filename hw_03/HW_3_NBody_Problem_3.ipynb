{
 "cells": [
  {
   "cell_type": "code",
   "execution_count": 1,
   "metadata": {},
   "outputs": [],
   "source": [
    "import numpy as np\n",
    "import rebound"
   ]
  },
  {
   "cell_type": "markdown",
   "metadata": {},
   "source": [
    "**Problem 3**: Set up a Solar System with all of the planets and Pluto. Suppose Planet Nine has $a = 460$ AU and $e = 0.4$. How massive would it have to be in order to perturb Pluto's orbit by 10\\% after 10 years of evolution.\n",
    "Given your answer, why do you think we haven't found any Planet Nine yet?"
   ]
  },
  {
   "cell_type": "code",
   "execution_count": 2,
   "metadata": {},
   "outputs": [
    {
     "name": "stdout",
     "output_type": "stream",
     "text": [
      "Searching NASA Horizons for 'Sun'... \n",
      "Found: Sun (10) \n",
      "Searching NASA Horizons for 'Mercury'... \n",
      "Found: Mercury Barycenter (199) (chosen from query 'Mercury')\n",
      "Searching NASA Horizons for 'Venus'... \n",
      "Found: Venus Barycenter (299) (chosen from query 'Venus')\n",
      "Searching NASA Horizons for 'Earth'... \n",
      "Found: Earth-Moon Barycenter (3) (chosen from query 'Earth')\n",
      "Searching NASA Horizons for 'Mars'... \n",
      "Found: Mars Barycenter (4) (chosen from query 'Mars')\n",
      "Searching NASA Horizons for 'Jupiter'... \n",
      "Found: Jupiter Barycenter (5) (chosen from query 'Jupiter')\n",
      "Searching NASA Horizons for 'Saturn'... \n",
      "Found: Saturn Barycenter (6) (chosen from query 'Saturn')\n",
      "Searching NASA Horizons for 'Uranus'... \n",
      "Found: Uranus Barycenter (7) (chosen from query 'Uranus')\n",
      "Searching NASA Horizons for 'Neptune'... \n",
      "Found: Neptune Barycenter (8) (chosen from query 'Neptune')\n",
      "Searching NASA Horizons for 'Pluto'... \n",
      "Found: Pluto Barycenter (9) (chosen from query 'Pluto')\n"
     ]
    }
   ],
   "source": [
    "sim = rebound.Simulation()\n",
    "\n",
    "sim.add(\"Sun\")\n",
    "sim.add(\"Mercury\")\n",
    "sim.add(\"Venus\")\n",
    "sim.add(\"Earth\")\n",
    "sim.add(\"Mars\")\n",
    "sim.add(\"Jupiter\")\n",
    "sim.add(\"Saturn\")\n",
    "sim.add(\"Uranus\")\n",
    "sim.add(\"Neptune\")\n",
    "sim.add(\"Pluto\")"
   ]
  },
  {
   "cell_type": "code",
   "execution_count": 3,
   "metadata": {},
   "outputs": [],
   "source": [
    "def relative_error(x_i, x_f):\n",
    "    return np.abs((x_i - x_f) / x_i)\n",
    "\n",
    "def change_in_orbit(m):\n",
    "    \n",
    "    a = 460.0; e = 0.4\n",
    "    \n",
    "    t_final_years = 10.0\n",
    "    t_final = (2.0 * np.pi * t_final_years)\n",
    "    \n",
    "    # Add Planet Nine; save Pluto's orbits before and after integrating for 10 years.\n",
    "    s = sim.copy(); s.add(m=m, a=a, e=e); s.move_to_com()\n",
    "    o_i = s.particles[9].calculate_orbit(primary=s.particles[0])\n",
    "    s.integrate(t_final)\n",
    "    o_f = s.particles[9].calculate_orbit(primary=s.particles[0])\n",
    "    \n",
    "    # Print the relative change in the semimajor axis.\n",
    "    a_i = o_i.a; a_f = o_f.a\n",
    "    \n",
    "    print('MASS: {0:.2e} Msun\\t da\\\\a = {1:.5f}'.format(m, relative_error(a_i, a_f)))"
   ]
  },
  {
   "cell_type": "code",
   "execution_count": 4,
   "metadata": {},
   "outputs": [
    {
     "name": "stdout",
     "output_type": "stream",
     "text": [
      "MASS: 5.10e+01 Msun\t da\\a = 0.09980\n"
     ]
    }
   ],
   "source": [
    "m = 51\n",
    "change_in_orbit(m)"
   ]
  },
  {
   "cell_type": "code",
   "execution_count": 5,
   "metadata": {},
   "outputs": [
    {
     "name": "stdout",
     "output_type": "stream",
     "text": [
      "MASS: 5.20e+01 Msun\t da\\a = 0.10189\n"
     ]
    }
   ],
   "source": [
    "m = 52\n",
    "change_in_orbit(m)"
   ]
  },
  {
   "cell_type": "code",
   "execution_count": 6,
   "metadata": {},
   "outputs": [
    {
     "name": "stdout",
     "output_type": "stream",
     "text": [
      "54462.129488\n"
     ]
    }
   ],
   "source": [
    "msun_to_mjup = 1047.348644\n",
    "print(52 * msun_to_mjup)"
   ]
  },
  {
   "cell_type": "code",
   "execution_count": null,
   "metadata": {},
   "outputs": [],
   "source": []
  }
 ],
 "metadata": {
  "kernelspec": {
   "display_name": "Python 3",
   "language": "python",
   "name": "python3"
  },
  "language_info": {
   "codemirror_mode": {
    "name": "ipython",
    "version": 3
   },
   "file_extension": ".py",
   "mimetype": "text/x-python",
   "name": "python",
   "nbconvert_exporter": "python",
   "pygments_lexer": "ipython3",
   "version": "3.6.13"
  }
 },
 "nbformat": 4,
 "nbformat_minor": 2
}
